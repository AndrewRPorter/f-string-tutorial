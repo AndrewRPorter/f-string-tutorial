{
 "cells": [
  {
   "cell_type": "markdown",
   "metadata": {},
   "source": [
    "# Python String Formatting with F-Strings"
   ]
  },
  {
   "cell_type": "markdown",
   "metadata": {},
   "source": [
    "## You can read more about f-strings at:\n",
    "\n",
    "- https://docs.python.org/3/reference/lexical_analysis.html#f-strings\n",
    "- https://www.python.org/dev/peps/pep-0498/"
   ]
  },
  {
   "cell_type": "markdown",
   "metadata": {},
   "source": [
    "## Older styles"
   ]
  },
  {
   "cell_type": "code",
   "execution_count": 11,
   "metadata": {},
   "outputs": [
    {
     "output_type": "stream",
     "name": "stdout",
     "text": "Hello, my name is Andrew\n"
    }
   ],
   "source": [
    "# % (printf-style) formatting\n",
    "print(\"Hello, my name is %(name)s\" % {\"name\": \"Andrew\"})"
   ]
  },
  {
   "cell_type": "code",
   "execution_count": 12,
   "metadata": {},
   "outputs": [
    {
     "output_type": "stream",
     "name": "stdout",
     "text": "Hello, my name is Andrew\n"
    }
   ],
   "source": [
    "# str.format formatting\n",
    "print(\"Hello, my name is {}\".format(\"Andrew\"))"
   ]
  },
  {
   "cell_type": "code",
   "execution_count": 13,
   "metadata": {},
   "outputs": [
    {
     "output_type": "stream",
     "name": "stdout",
     "text": "Hello, my name is Andrew\n"
    }
   ],
   "source": [
    "# str.Template formatting\n",
    "from string import Template\n",
    "template = Template(\"Hello, my name is $name\")\n",
    "print(template.substitute(name=\"Andrew\"))"
   ]
  },
  {
   "cell_type": "markdown",
   "metadata": {},
   "source": [
    "## f-string"
   ]
  },
  {
   "cell_type": "code",
   "execution_count": 18,
   "metadata": {},
   "outputs": [
    {
     "output_type": "stream",
     "name": "stdout",
     "text": "Hello, my name is Andrew\nHello, my name is Andrew\nHello, my name is Andrew\n"
    }
   ],
   "source": [
    "name = \"Andrew\"\n",
    "print(f\"Hello, my name is {'Andrew'}\")\n",
    "print(f\"Hello, my name is {name}\")\n",
    "print(F\"Hello, my name is {name}\")"
   ]
  },
  {
   "cell_type": "markdown",
   "metadata": {},
   "source": [
    "### Concatenation"
   ]
  },
  {
   "cell_type": "code",
   "execution_count": 15,
   "metadata": {},
   "outputs": [
    {
     "output_type": "stream",
     "name": "stdout",
     "text": "Hello, my name is Andrew\n"
    }
   ],
   "source": [
    "print(\"Hello, my name is \" + f\"{name}\")"
   ]
  },
  {
   "cell_type": "markdown",
   "metadata": {},
   "source": [
    "### Using Raw Strings"
   ]
  },
  {
   "cell_type": "code",
   "execution_count": 17,
   "metadata": {},
   "outputs": [
    {
     "output_type": "stream",
     "name": "stdout",
     "text": "Hello, my name is Andrew\nHello, my name is Andrew\n"
    }
   ],
   "source": [
    "values = {\"name\": \"Andrew\"}\n",
    "print(f\"Hello, my name is {values['name']}\")\n",
    "print(f'''Hello, my name is {values['name']}''')"
   ]
  },
  {
   "cell_type": "markdown",
   "metadata": {},
   "source": [
    "### Format specifiers"
   ]
  },
  {
   "cell_type": "code",
   "execution_count": 9,
   "metadata": {},
   "outputs": [
    {
     "output_type": "stream",
     "name": "stdout",
     "text": "result: 1.312689\nresult: 1.31\n"
    }
   ],
   "source": [
    "number = 1.3126890\n",
    "print(f\"result: {number}\")\n",
    "\n",
    "# f'{value:{width}.{precision}}'\n",
    "print(f\"result: {number:0.2f}\")"
   ]
  },
  {
   "cell_type": "markdown",
   "metadata": {},
   "source": [
    "### Expression evaluation"
   ]
  },
  {
   "cell_type": "code",
   "execution_count": 8,
   "metadata": {},
   "outputs": [
    {
     "output_type": "stream",
     "name": "stdout",
     "text": "foo\n"
    }
   ],
   "source": [
    "def foo():\n",
    "    return \"foo\"\n",
    "print(f\"{foo()}\")"
   ]
  }
 ],
 "metadata": {
  "kernelspec": {
   "display_name": "Python 3",
   "language": "python",
   "name": "python3"
  },
  "language_info": {
   "codemirror_mode": {
    "name": "ipython",
    "version": 3
   },
   "file_extension": ".py",
   "mimetype": "text/x-python",
   "name": "python",
   "nbconvert_exporter": "python",
   "pygments_lexer": "ipython3",
   "version": "3.7.5-final"
  }
 },
 "nbformat": 4,
 "nbformat_minor": 4
}